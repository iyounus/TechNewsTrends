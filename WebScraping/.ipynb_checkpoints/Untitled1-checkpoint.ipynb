{
 "metadata": {
  "name": "",
  "signature": "sha256:dd817316a5cb54d489d5fa7abb9ff7b1b231216eb33b246744200224cae2fce1"
 },
 "nbformat": 3,
 "nbformat_minor": 0,
 "worksheets": [
  {
   "cells": [
    {
     "cell_type": "code",
     "collapsed": false,
     "input": [
      "NYT_URL = 'http://api.nytimes.com/svc/search/v2/articlesearch.json?sort=newest&fq=news_desk:(\"technology\")&begin_date=20140901&end_date=20140902&api-key=4ab21f2ea4bb6a0893135fbf0881689d:15:69947362'"
     ],
     "language": "python",
     "metadata": {},
     "outputs": [],
     "prompt_number": 172
    },
    {
     "cell_type": "code",
     "collapsed": false,
     "input": [],
     "language": "python",
     "metadata": {},
     "outputs": [],
     "prompt_number": 145
    },
    {
     "cell_type": "code",
     "collapsed": false,
     "input": [
      "def init_mongo():\n",
      "    # SETUP MONGO DB CONNECTION VIA PYMONGO\n",
      "    client = MongoClient()\n",
      "\n",
      "    # CREATE DATABASE NAMED NYT\n",
      "    db = client.nyt_tech\n",
      "\n",
      "    # CREATE A COLLECTION IN NYT NAMED ARTICLES (SHORTCUT TO OT NAMED COLLECTION)\n",
      "    collection = db.articles\n",
      "    return db, collection"
     ],
     "language": "python",
     "metadata": {},
     "outputs": [],
     "prompt_number": 146
    },
    {
     "cell_type": "code",
     "collapsed": false,
     "input": [
      "# payload  = {'sort': 'newest',\n",
      "#             'fq':'news_desk:(\"\")',\n",
      "#             'begin_date': '20140901',\n",
      "#             'end_date':   '20140902',\n",
      "#             'api-key': API_KEY, \n",
      "#             'page': 0}\n",
      "\n",
      "api = requests.get(NYT_URL)#, params=payload)\n",
      "print dir(api)\n",
      "print api.url\n",
      "api.ok"
     ],
     "language": "python",
     "metadata": {},
     "outputs": [
      {
       "output_type": "stream",
       "stream": "stdout",
       "text": [
        "['__attrs__', '__bool__', '__class__', '__delattr__', '__dict__', '__doc__', '__format__', '__getattribute__', '__getstate__', '__hash__', '__init__', '__iter__', '__module__', '__new__', '__nonzero__', '__reduce__', '__reduce_ex__', '__repr__', '__setattr__', '__setstate__', '__sizeof__', '__str__', '__subclasshook__', '__weakref__', '_content', '_content_consumed', 'apparent_encoding', 'close', 'connection', 'content', 'cookies', 'elapsed', 'encoding', 'headers', 'history', 'is_redirect', 'iter_content', 'iter_lines', 'json', 'links', 'ok', 'raise_for_status', 'raw', 'reason', 'request', 'status_code', 'text', 'url']\n",
        "http://api.nytimes.com/svc/search/v2/articlesearch.json?sort=newest&fq=news_desk:(%22technology%22)&begin_date=20140901&end_date=20140902&api-key=4ab21f2ea4bb6a0893135fbf0881689d:15:69947362\n"
       ]
      },
      {
       "metadata": {},
       "output_type": "pyout",
       "prompt_number": 173,
       "text": [
        "True"
       ]
      }
     ],
     "prompt_number": 173
    },
    {
     "cell_type": "code",
     "collapsed": false,
     "input": [
      "#api.json()\n",
      "l = api.json()['response']['docs']\n",
      "for item in l:\n",
      "    print item['section_name'], item['web_url']"
     ],
     "language": "python",
     "metadata": {},
     "outputs": [],
     "prompt_number": 174
    },
    {
     "cell_type": "code",
     "collapsed": false,
     "input": [
      "print api.json()"
     ],
     "language": "python",
     "metadata": {},
     "outputs": [
      {
       "output_type": "stream",
       "stream": "stdout",
       "text": [
        "{u'status': u'OK', u'response': {u'docs': [], u'meta': {u'hits': 0, u'offset': 0, u'time': 44}}, u'copyright': u'Copyright (c) 2013 The New York Times Company.  All Rights Reserved.'}\n"
       ]
      }
     ],
     "prompt_number": 175
    },
    {
     "cell_type": "code",
     "collapsed": false,
     "input": [],
     "language": "python",
     "metadata": {},
     "outputs": []
    }
   ],
   "metadata": {}
  }
 ]
}