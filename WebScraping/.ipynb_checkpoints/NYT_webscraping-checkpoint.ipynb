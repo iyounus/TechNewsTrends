{
 "metadata": {
  "name": "",
  "signature": "sha256:8d35aed66161701e8444215ae9a4746703cb12fafed35bc3b165d418aeb6693f"
 },
 "nbformat": 3,
 "nbformat_minor": 0,
 "worksheets": [
  {
   "cells": [
    {
     "cell_type": "code",
     "collapsed": false,
     "input": [
      "from bs4 import BeautifulSoup\n",
      "import requests\n",
      "import json\n",
      "import time\n",
      "import nltk\n",
      "from dateutil import parser\n",
      "\n",
      "from nltk.corpus import stopwords\n",
      "from nltk.tokenize import sent_tokenize, word_tokenize\n",
      "\n",
      "from pymongo import MongoClient\n",
      "from pymongo import errors\n",
      "\n",
      "\n",
      "client = MongoClient()\n",
      "db = client.nyt_tech\n",
      "\n",
      "# get mongoDB collection\n",
      "collection = db.articles\n",
      "print collection"
     ],
     "language": "python",
     "metadata": {},
     "outputs": [
      {
       "output_type": "stream",
       "stream": "stdout",
       "text": [
        "Collection(Database(MongoClient('localhost', 27017), u'nyt_tech'), u'articles')\n"
       ]
      }
     ],
     "prompt_number": 1
    },
    {
     "cell_type": "code",
     "collapsed": false,
     "input": [
      "api_key = '4ab21f2ea4bb6a0893135fbf0881689d:15:69947362'\n",
      "url = 'http://api.nytimes.com/svc/search/v2/articlesearch.json?sort=newest&fq=section_name:\"Technology\"&api-key=' + api_key\n",
      "api = requests.get(url)"
     ],
     "language": "python",
     "metadata": {},
     "outputs": [],
     "prompt_number": 2
    },
    {
     "cell_type": "code",
     "collapsed": false,
     "input": [
      "# parse resulting JSON and insert into a mongoDB collection\n",
      "# for content in api.json()['response']['docs']:\n",
      "#     if not collection.find_one(content):\n",
      "#         collection.insert(content)\n",
      "    \n",
      "# only returns 10 per page\n",
      "\"There are only %i docuemtns returned 0_o\" % len(api.json()['response']['docs'])\n",
      "\n",
      "# parse resulting JSON and insert into a mongoDB collection\n",
      "for content in api.json()['response']['docs']:\n",
      "    print content['pub_date']\n",
      "    \n",
      "total_articles = articles_left = api.json()['response']['meta']['hits']\n",
      "print \"There are currently %s articles in the NYT archive\" % total_articles"
     ],
     "language": "python",
     "metadata": {},
     "outputs": [
      {
       "output_type": "stream",
       "stream": "stdout",
       "text": [
        "2014-11-03T17:21:02Z\n",
        "2014-11-03T16:46:05Z\n",
        "2014-11-03T15:54:06Z\n",
        "2014-11-03T15:01:03Z\n",
        "2014-11-03T14:07:42Z\n",
        "2014-11-03T13:48:21Z\n",
        "2014-11-03T13:18:10Z\n",
        "2014-11-03T12:20:55Z\n",
        "2014-11-03T11:43:29Z\n",
        "2014-11-03T11:20:31Z\n",
        "There are currently 35343 articles in the NYT archive\n"
       ]
      }
     ],
     "prompt_number": 3
    },
    {
     "cell_type": "code",
     "collapsed": false,
     "input": [
      "max_pages = 10000\n",
      "page = 0\n",
      "final_page = 0\n",
      "page_count = 0\n",
      "cursor_count = 0\n",
      "articles_left = total_articles\n",
      "last_date = \"20141103\"\n",
      "latest_article = \"\"\n",
      "\n",
      "# let us loop (and hopefully not hit our rate limit)\n",
      "while articles_left > 0 and page_count < max_pages:\n",
      "    more_articles = requests.get(url + \"&page=\" + str(page) + \"&end_date=\" + str(last_date))\n",
      "    # make sure it was successful\n",
      "    if more_articles.status_code == 200:\n",
      "        for content in more_articles.json()['response']['docs']:\n",
      "            print content['web_url']\n",
      "            latest_article = parser.parse(content['pub_date']).strftime(\"%Y%m%d\")\n",
      "            if not collection.find_one(content):\n",
      "                #print \"No dups\"\n",
      "                try:\n",
      "                    #print \"Inserting article \" + str(content['headline'])\n",
      "                    collection.insert(content)\n",
      "                except errors.DuplicateKeyError:\n",
      "                    print \"Duplicates\"\n",
      "                    continue\n",
      "            else:\n",
      "                print \"In collection already\"\n",
      "                    \n",
      "        articles_left -= 10\n",
      "        page += 1\n",
      "        page_count += 1\n",
      "        cursor_count += 1\n",
      "        final_page = max(final_page, page)\n",
      "    else:\n",
      "        if more_articles.status_code == 403:\n",
      "            print \"Sleepy...\"\n",
      "            # account for rate limiting\n",
      "            time.sleep(2)\n",
      "        elif cursor_count > 100:\n",
      "            print \"Adjusting date\"\n",
      "            cursor_count = 0\n",
      "            page = 0\n",
      "            last_date = latest_article\n",
      "        else:\n",
      "            print \"ERRORS: \" + str(more_articles.status_code)\n",
      "            cursor_count = 0\n",
      "            page = 0\n",
      "            last_date = latest_article\n"
     ],
     "language": "python",
     "metadata": {},
     "outputs": [
      {
       "output_type": "stream",
       "stream": "stdout",
       "text": [
        "http://www.nytimes.com/reuters/2014/11/03/technology/03reuters-intel-wearables.html\n",
        "In collection already\n",
        "http://www.nytimes.com/reuters/2014/11/03/technology/03reuters-britain-security-gchq.html\n",
        "In collection already\n",
        "http://bits.blogs.nytimes.com/2014/11/03/southwest-airlines-offers-free-streaming-of-apples-beats-music-service/\n",
        "In collection already\n",
        "http://www.nytimes.com/reuters/2014/11/03/technology/03reuters-usa-florida-carnival.html\n",
        "In collection already\n",
        "http://www.nytimes.com/reuters/2014/11/03/technology/03reuters-wireless-volte.html\n",
        "In collection already\n",
        "http://www.nytimes.com/reuters/2014/11/03/technology/03reuters-healthcare-tech-ella.html\n",
        "In collection already\n",
        "http://www.nytimes.com/aponline/2014/11/03/technology/ap-us-tec-digital-life-review-android-tablets.html\n",
        "In collection already\n",
        "http://www.nytimes.com/reuters/2014/11/03/technology/03reuters-pharmaceuticals-software-thermo-fisher.html\n",
        "In collection already\n",
        "http://www.nytimes.com/reuters/2014/11/03/technology/03reuters-russia-gay-apple.html\n",
        "In collection already\n",
        "http://www.nytimes.com/reuters/2014/11/03/technology/03reuters-bswift-m-a-aetna.html\n",
        "In collection already\n",
        "http://www.nytimes.com/reuters/2014/11/03/technology/03reuters-auction-apple.html"
       ]
      },
      {
       "output_type": "stream",
       "stream": "stdout",
       "text": [
        "\n",
        "In collection already\n",
        "http://bits.blogs.nytimes.com/2014/11/03/daily-report-the-new-dell/\n",
        "In collection already\n",
        "http://www.nytimes.com/reuters/2014/11/03/technology/03reuters-rtl-youtube-fashion.html\n",
        "In collection already\n",
        "http://www.nytimes.com/reuters/2014/11/03/technology/03reuters-nigeria-telecommunications-ihs.html\n",
        "In collection already\n",
        "http://www.nytimes.com/reuters/2014/11/03/technology/03reuters-tencent-ibm-deals.html\n",
        "In collection already\n",
        "http://www.nytimes.com/2014/11/03/technology/europe-shifts-on-priorities-for-telecoms.html\n",
        "In collection already\n",
        "http://www.nytimes.com/2014/11/03/business/dells-life-after-wall-street.html\n",
        "In collection already\n",
        "http://bits.blogs.nytimes.com/2014/11/02/microsofts-new-fitness-tracking-device-is-a-welcome-surprise/\n",
        "In collection already\n",
        "http://bits.blogs.nytimes.com/2014/11/02/a-faded-monster-seeks-a-return-to-glory/\n",
        "In collection already\n",
        "http://www.nytimes.com/2014/11/01/technology/fcc-considering-hybrid-regulatory-approach-to-net-neutrality.html\n",
        "In collection already\n",
        "http://bits.blogs.nytimes.com/2014/10/31/f-c-c-weighs-backup-system-for-911/"
       ]
      },
      {
       "output_type": "stream",
       "stream": "stdout",
       "text": [
        "\n",
        "In collection already\n",
        "http://bits.blogs.nytimes.com/2014/10/31/amazon-unclear-on-diversity/\n",
        "In collection already\n",
        "http://bits.blogs.nytimes.com/2014/10/31/the-internet-archive-trying-to-encompass-all-creation/\n",
        "In collection already\n",
        "http://bits.blogs.nytimes.com/2014/10/31/the-new-thing-in-google-flu-trends-is-traditional-data/\n",
        "In collection already\n",
        "http://www.nytimes.com/aponline/2014/10/31/technology/ap-us-tec-microsoft-office-.html\n",
        "In collection already\n",
        "http://www.nytimes.com/reuters/2014/10/31/technology/31reuters-piratebay-sentence.html\n",
        "In collection already\n",
        "http://bits.blogs.nytimes.com/2014/10/31/slack-a-start-up-with-an-app-to-foster-business-collaboration-is-valued-at-1-1-billion/\n",
        "In collection already\n",
        "http://bits.blogs.nytimes.com/2014/10/31/in-china-internet-czar-is-taking-a-blunt-tone/\n",
        "In collection already\n",
        "http://bits.blogs.nytimes.com/2014/10/31/daily-report-the-power-of-tim-cooks-declaration/\n",
        "In collection already\n",
        "http://www.nytimes.com/reuters/2014/10/31/technology/31reuters-tencent-ibm-deals.html\n",
        "In collection already\n",
        "http://www.nytimes.com/reuters/2014/10/31/technology/31reuters-panasonic-results.html"
       ]
      },
      {
       "output_type": "stream",
       "stream": "stdout",
       "text": [
        "\n",
        "In collection already\n",
        "http://www.nytimes.com/reuters/2014/10/31/technology/31reuters-htc-outlook.html\n",
        "In collection already\n",
        "http://www.nytimes.com/reuters/2014/10/31/technology/31reuters-japan-mobilephone-simcards.html\n",
        "In collection already\n",
        "http://www.nytimes.com/reuters/2014/10/31/technology/31reuters-sharp-results.html\n",
        "In collection already\n",
        "http://www.nytimes.com/2014/10/31/technology/personaltech/turning-the-pc-into-a-dvr.html\n",
        "In collection already\n",
        "http://www.nytimes.com/2014/10/31/technology/apple-chief-tim-cooks-coming-out-this-will-resonate.html\n",
        "In collection already\n",
        "http://www.nytimes.com/2014/10/31/technology/twitter-appoints-product-chief-replacing-one-named-6-months-ago.html\n",
        "In collection already\n",
        "http://www.nytimes.com/2014/10/31/technology/tim-cooks-disclosure-that-hes-gay-garners-sweeping-praise.html\n",
        "In collection already\n",
        "http://www.nytimes.com/2014/10/31/technology/timothy-cook-apples-chief-executive-says-he-is-proud-to-be-gay.html\n",
        "In collection already\n",
        "http://www.nytimes.com/reuters/2014/10/30/technology/30reuters-boeing-space-engines.html\n",
        "In collection already\n",
        "http://bits.blogs.nytimes.com/2014/10/30/andy-rubin-leaves-google-during-executive-shake-up/"
       ]
      },
      {
       "output_type": "stream",
       "stream": "stdout",
       "text": [
        "\n",
        "In collection already\n",
        "http://www.nytimes.com/reuters/2014/10/30/technology/30reuters-google-managementchanges.html\n",
        "In collection already\n",
        "http://www.nytimes.com/reuters/2014/10/30/technology/30reuters-apple-ceo-alabama.html\n",
        "In collection already\n",
        "http://www.nytimes.com/reuters/2014/10/30/technology/30reuters-nintendo-products.html\n",
        "In collection already\n",
        "http://www.nytimes.com/reuters/2014/10/30/technology/30reuters-twitter-executives.html\n",
        "In collection already\n",
        "http://www.nytimes.com/reuters/2014/10/30/technology/30reuters-apple-ceo-gayrights.html\n",
        "In collection already\n",
        "http://www.nytimes.com/reuters/2014/10/30/technology/30reuters-usa-trade-it.html\n",
        "In collection already\n",
        "http://www.nytimes.com/reuters/2014/10/30/technology/30reuters-expedia-results.html\n",
        "In collection already\n",
        "http://www.nytimes.com/reuters/2014/10/30/technology/30reuters-linkedin-results.html\n",
        "In collection already\n",
        "http://www.nytimes.com/reuters/2014/10/30/technology/30reuters-gopro-results.html\n",
        "In collection already\n",
        "http://www.nytimes.com/reuters/2014/10/30/technology/30reuters-stratasys-3dprinting.html"
       ]
      },
      {
       "output_type": "stream",
       "stream": "stdout",
       "text": [
        "\n",
        "In collection already\n",
        "http://www.nytimes.com/reuters/2014/10/30/technology/30reuters-america-movil-sale-softbank.html\n",
        "In collection already\n",
        "http://www.nytimes.com/reuters/2014/10/30/technology/30reuters-usa-recall-chargers.html\n",
        "In collection already\n",
        "http://www.nytimes.com/reuters/2014/10/30/technology/30reuters-usa-internet-neutrality-comcast.html\n",
        "In collection already\n",
        "http://www.nytimes.com/aponline/2014/10/30/technology/ap-us-tec-microsoft-fitness-data.html\n",
        "In collection already\n",
        "http://www.nytimes.com/reuters/2014/10/30/technology/30reuters-nxp-semicondtrs-autos.html\n",
        "In collection already\n",
        "http://bits.blogs.nytimes.com/2014/10/30/a-history-of-moocs-open-online-courses/\n",
        "In collection already\n",
        "http://www.nytimes.com/reuters/2014/10/30/technology/30reuters-apple-ceo.html\n",
        "In collection already\n",
        "http://www.nytimes.com/aponline/2014/10/30/us/ap-us-tim-cook-comes-out.html\n",
        "In collection already\n",
        "http://bits.blogs.nytimes.com/2014/10/30/daily-report-microsoft-leaps-into-wearable-fitness/\n",
        "In collection already\n",
        "http://www.nytimes.com/reuters/2014/10/30/technology/30reuters-lenovo-motorola.html"
       ]
      },
      {
       "output_type": "stream",
       "stream": "stdout",
       "text": [
        "\n",
        "In collection already\n",
        "http://www.nytimes.com/reuters/2014/10/30/technology/30reuters-sony-smartphone.html\n",
        "In collection already\n",
        "http://www.nytimes.com/reuters/2014/10/30/technology/30reuters-baidu-results.html\n",
        "In collection already\n",
        "http://www.nytimes.com/reuters/2014/10/30/technology/30reuters-xiaomi-mobilephone.html\n",
        "In collection already\n",
        "http://www.nytimes.com/reuters/2014/10/30/technology/30reuters-microsoft-wearabledevice.html\n",
        "In collection already\n",
        "http://www.nytimes.com/reuters/2014/10/30/technology/30reuters-usa-nevada-ridesharing.html\n",
        "In collection already\n",
        "http://www.nytimes.com/2014/10/30/technology/personaltech/the-latest-flipboard-serves-up-the-news-and-some-surprises.html\n",
        "In collection already\n",
        "http://www.nytimes.com/2014/10/30/business/microsoft-jumps-into-the-growing-market-for-wearable-fitness-technology.html\n",
        "In collection already\n",
        "http://www.nytimes.com/2014/10/30/business/samsung-reports-lowest-profit-in-3-years.html\n",
        "In collection already\n",
        "http://www.nytimes.com/2014/10/30/technology/rival-says-it-may-adopt-apple-pays-system.html\n",
        "In collection already\n",
        "http://www.nytimes.com/2014/10/30/technology/personaltech/bluetooth-improvements-appear-in-more-devices.html"
       ]
      },
      {
       "output_type": "stream",
       "stream": "stdout",
       "text": [
        "\n",
        "In collection already\n",
        "http://www.nytimes.com/2014/10/30/technology/personaltech/learn-spanish-from-your-phone.html\n",
        "In collection already\n",
        "http://www.nytimes.com/2014/10/30/technology/personaltech/looking-for-a-design-behind-amazons-devices.html\n",
        "In collection already\n",
        "http://www.nytimes.com/2014/10/30/technology/personaltech/sorting-the-phones-address-book.html\n",
        "In collection already\n",
        "http://www.nytimes.com/reuters/2014/10/29/technology/29reuters-nintendo-products.html\n",
        "In collection already\n",
        "http://bits.blogs.nytimes.com/2014/10/29/unpacking-the-f-c-c-s-online-video-proposal/\n",
        "In collection already\n",
        "http://www.nytimes.com/reuters/2014/10/29/technology/29reuters-baidu-results.html\n",
        "In collection already\n",
        "http://www.nytimes.com/reuters/2014/10/29/technology/29reuters-taketwo-results.html\n",
        "In collection already\n",
        "http://www.nytimes.com/reuters/2014/10/29/technology/29reuters-orbital-sciences-investors.html\n",
        "In collection already\n",
        "http://bits.blogs.nytimes.com/2014/10/29/ibm-and-twitter-team-up-to-give-business-a-gauge-powered-by-social-media/\n",
        "In collection already\n",
        "http://bits.blogs.nytimes.com/2014/10/29/reddit-opens-a-crowdfunding-site/"
       ]
      },
      {
       "output_type": "stream",
       "stream": "stdout",
       "text": [
        "\n",
        "In collection already\n",
        "http://www.nytimes.com/aponline/2014/10/29/technology/ap-us-tec-digital-life-review-paying-for-online-tv.html\n",
        "In collection already\n",
        "http://www.nytimes.com/reuters/2014/10/29/technology/29reuters-google-pharmaceuticals-settlement.html\n",
        "In collection already\n",
        "http://www.nytimes.com/video/technology/personaltech/100000003202461/app-smart-free-spanish-lessons.html\n",
        "In collection already\n",
        "http://www.nytimes.com/reuters/2014/10/29/technology/29reuters-usa-internet-neutrality-verizon.html\n",
        "In collection already\n",
        "http://www.nytimes.com/reuters/2014/10/29/technology/29reuters-hp-electronics.html\n",
        "In collection already\n",
        "http://bits.blogs.nytimes.com/2014/10/29/hp-unveils-plan-to-make-3d-printing-an-everyday-thing/\n",
        "In collection already\n",
        "http://www.nytimes.com/reuters/2014/10/29/technology/29reuters-comcast-lawsuit.html\n",
        "In collection already\n",
        "http://www.nytimes.com/reuters/2014/10/29/technology/29reuters-iac-results.html\n",
        "In collection already\n",
        "http://www.nytimes.com/reuters/2014/10/29/technology/29reuters-garmin-results.html\n",
        "In collection already\n"
       ]
      },
      {
       "ename": "KeyboardInterrupt",
       "evalue": "",
       "output_type": "pyerr",
       "traceback": [
        "\u001b[1;31m---------------------------------------------------------------------------\u001b[0m\n\u001b[1;31mKeyboardInterrupt\u001b[0m                         Traceback (most recent call last)",
        "\u001b[1;32m<ipython-input-5-d4084d57f283>\u001b[0m in \u001b[0;36m<module>\u001b[1;34m()\u001b[0m\n\u001b[0;32m     10\u001b[0m \u001b[1;31m# let us loop (and hopefully not hit our rate limit)\u001b[0m\u001b[1;33m\u001b[0m\u001b[1;33m\u001b[0m\u001b[0m\n\u001b[0;32m     11\u001b[0m \u001b[1;32mwhile\u001b[0m \u001b[0marticles_left\u001b[0m \u001b[1;33m>\u001b[0m \u001b[1;36m0\u001b[0m \u001b[1;32mand\u001b[0m \u001b[0mpage_count\u001b[0m \u001b[1;33m<\u001b[0m \u001b[0mmax_pages\u001b[0m\u001b[1;33m:\u001b[0m\u001b[1;33m\u001b[0m\u001b[0m\n\u001b[1;32m---> 12\u001b[1;33m     \u001b[0mmore_articles\u001b[0m \u001b[1;33m=\u001b[0m \u001b[0mrequests\u001b[0m\u001b[1;33m.\u001b[0m\u001b[0mget\u001b[0m\u001b[1;33m(\u001b[0m\u001b[0murl\u001b[0m \u001b[1;33m+\u001b[0m \u001b[1;34m\"&page=\"\u001b[0m \u001b[1;33m+\u001b[0m \u001b[0mstr\u001b[0m\u001b[1;33m(\u001b[0m\u001b[0mpage\u001b[0m\u001b[1;33m)\u001b[0m \u001b[1;33m+\u001b[0m \u001b[1;34m\"&end_date=\"\u001b[0m \u001b[1;33m+\u001b[0m \u001b[0mstr\u001b[0m\u001b[1;33m(\u001b[0m\u001b[0mlast_date\u001b[0m\u001b[1;33m)\u001b[0m\u001b[1;33m)\u001b[0m\u001b[1;33m\u001b[0m\u001b[0m\n\u001b[0m\u001b[0;32m     13\u001b[0m     \u001b[1;31m# make sure it was successful\u001b[0m\u001b[1;33m\u001b[0m\u001b[1;33m\u001b[0m\u001b[0m\n\u001b[0;32m     14\u001b[0m     \u001b[1;32mif\u001b[0m \u001b[0mmore_articles\u001b[0m\u001b[1;33m.\u001b[0m\u001b[0mstatus_code\u001b[0m \u001b[1;33m==\u001b[0m \u001b[1;36m200\u001b[0m\u001b[1;33m:\u001b[0m\u001b[1;33m\u001b[0m\u001b[0m\n",
        "\u001b[1;32m/home/iyounus/anaconda/lib/python2.7/site-packages/requests/api.pyc\u001b[0m in \u001b[0;36mget\u001b[1;34m(url, **kwargs)\u001b[0m\n\u001b[0;32m     53\u001b[0m \u001b[1;33m\u001b[0m\u001b[0m\n\u001b[0;32m     54\u001b[0m     \u001b[0mkwargs\u001b[0m\u001b[1;33m.\u001b[0m\u001b[0msetdefault\u001b[0m\u001b[1;33m(\u001b[0m\u001b[1;34m'allow_redirects'\u001b[0m\u001b[1;33m,\u001b[0m \u001b[0mTrue\u001b[0m\u001b[1;33m)\u001b[0m\u001b[1;33m\u001b[0m\u001b[0m\n\u001b[1;32m---> 55\u001b[1;33m     \u001b[1;32mreturn\u001b[0m \u001b[0mrequest\u001b[0m\u001b[1;33m(\u001b[0m\u001b[1;34m'get'\u001b[0m\u001b[1;33m,\u001b[0m \u001b[0murl\u001b[0m\u001b[1;33m,\u001b[0m \u001b[1;33m**\u001b[0m\u001b[0mkwargs\u001b[0m\u001b[1;33m)\u001b[0m\u001b[1;33m\u001b[0m\u001b[0m\n\u001b[0m\u001b[0;32m     56\u001b[0m \u001b[1;33m\u001b[0m\u001b[0m\n\u001b[0;32m     57\u001b[0m \u001b[1;33m\u001b[0m\u001b[0m\n",
        "\u001b[1;32m/home/iyounus/anaconda/lib/python2.7/site-packages/requests/api.pyc\u001b[0m in \u001b[0;36mrequest\u001b[1;34m(method, url, **kwargs)\u001b[0m\n\u001b[0;32m     42\u001b[0m \u001b[1;33m\u001b[0m\u001b[0m\n\u001b[0;32m     43\u001b[0m     \u001b[0msession\u001b[0m \u001b[1;33m=\u001b[0m \u001b[0msessions\u001b[0m\u001b[1;33m.\u001b[0m\u001b[0mSession\u001b[0m\u001b[1;33m(\u001b[0m\u001b[1;33m)\u001b[0m\u001b[1;33m\u001b[0m\u001b[0m\n\u001b[1;32m---> 44\u001b[1;33m     \u001b[1;32mreturn\u001b[0m \u001b[0msession\u001b[0m\u001b[1;33m.\u001b[0m\u001b[0mrequest\u001b[0m\u001b[1;33m(\u001b[0m\u001b[0mmethod\u001b[0m\u001b[1;33m=\u001b[0m\u001b[0mmethod\u001b[0m\u001b[1;33m,\u001b[0m \u001b[0murl\u001b[0m\u001b[1;33m=\u001b[0m\u001b[0murl\u001b[0m\u001b[1;33m,\u001b[0m \u001b[1;33m**\u001b[0m\u001b[0mkwargs\u001b[0m\u001b[1;33m)\u001b[0m\u001b[1;33m\u001b[0m\u001b[0m\n\u001b[0m\u001b[0;32m     45\u001b[0m \u001b[1;33m\u001b[0m\u001b[0m\n\u001b[0;32m     46\u001b[0m \u001b[1;33m\u001b[0m\u001b[0m\n",
        "\u001b[1;32m/home/iyounus/anaconda/lib/python2.7/site-packages/requests/sessions.pyc\u001b[0m in \u001b[0;36mrequest\u001b[1;34m(self, method, url, params, data, headers, cookies, files, auth, timeout, allow_redirects, proxies, hooks, stream, verify, cert)\u001b[0m\n\u001b[0;32m    454\u001b[0m             \u001b[1;34m'allow_redirects'\u001b[0m\u001b[1;33m:\u001b[0m \u001b[0mallow_redirects\u001b[0m\u001b[1;33m,\u001b[0m\u001b[1;33m\u001b[0m\u001b[0m\n\u001b[0;32m    455\u001b[0m         }\n\u001b[1;32m--> 456\u001b[1;33m         \u001b[0mresp\u001b[0m \u001b[1;33m=\u001b[0m \u001b[0mself\u001b[0m\u001b[1;33m.\u001b[0m\u001b[0msend\u001b[0m\u001b[1;33m(\u001b[0m\u001b[0mprep\u001b[0m\u001b[1;33m,\u001b[0m \u001b[1;33m**\u001b[0m\u001b[0msend_kwargs\u001b[0m\u001b[1;33m)\u001b[0m\u001b[1;33m\u001b[0m\u001b[0m\n\u001b[0m\u001b[0;32m    457\u001b[0m \u001b[1;33m\u001b[0m\u001b[0m\n\u001b[0;32m    458\u001b[0m         \u001b[1;32mreturn\u001b[0m \u001b[0mresp\u001b[0m\u001b[1;33m\u001b[0m\u001b[0m\n",
        "\u001b[1;32m/home/iyounus/anaconda/lib/python2.7/site-packages/requests/sessions.pyc\u001b[0m in \u001b[0;36msend\u001b[1;34m(self, request, **kwargs)\u001b[0m\n\u001b[0;32m    594\u001b[0m \u001b[1;33m\u001b[0m\u001b[0m\n\u001b[0;32m    595\u001b[0m         \u001b[1;32mif\u001b[0m \u001b[1;32mnot\u001b[0m \u001b[0mstream\u001b[0m\u001b[1;33m:\u001b[0m\u001b[1;33m\u001b[0m\u001b[0m\n\u001b[1;32m--> 596\u001b[1;33m             \u001b[0mr\u001b[0m\u001b[1;33m.\u001b[0m\u001b[0mcontent\u001b[0m\u001b[1;33m\u001b[0m\u001b[0m\n\u001b[0m\u001b[0;32m    597\u001b[0m \u001b[1;33m\u001b[0m\u001b[0m\n\u001b[0;32m    598\u001b[0m         \u001b[1;32mreturn\u001b[0m \u001b[0mr\u001b[0m\u001b[1;33m\u001b[0m\u001b[0m\n",
        "\u001b[1;32m/home/iyounus/anaconda/lib/python2.7/site-packages/requests/models.pyc\u001b[0m in \u001b[0;36mcontent\u001b[1;34m(self)\u001b[0m\n\u001b[0;32m    692\u001b[0m                     \u001b[0mself\u001b[0m\u001b[1;33m.\u001b[0m\u001b[0m_content\u001b[0m \u001b[1;33m=\u001b[0m \u001b[0mNone\u001b[0m\u001b[1;33m\u001b[0m\u001b[0m\n\u001b[0;32m    693\u001b[0m                 \u001b[1;32melse\u001b[0m\u001b[1;33m:\u001b[0m\u001b[1;33m\u001b[0m\u001b[0m\n\u001b[1;32m--> 694\u001b[1;33m                     \u001b[0mself\u001b[0m\u001b[1;33m.\u001b[0m\u001b[0m_content\u001b[0m \u001b[1;33m=\u001b[0m \u001b[0mbytes\u001b[0m\u001b[1;33m(\u001b[0m\u001b[1;33m)\u001b[0m\u001b[1;33m.\u001b[0m\u001b[0mjoin\u001b[0m\u001b[1;33m(\u001b[0m\u001b[0mself\u001b[0m\u001b[1;33m.\u001b[0m\u001b[0miter_content\u001b[0m\u001b[1;33m(\u001b[0m\u001b[0mCONTENT_CHUNK_SIZE\u001b[0m\u001b[1;33m)\u001b[0m\u001b[1;33m)\u001b[0m \u001b[1;32mor\u001b[0m \u001b[0mbytes\u001b[0m\u001b[1;33m(\u001b[0m\u001b[1;33m)\u001b[0m\u001b[1;33m\u001b[0m\u001b[0m\n\u001b[0m\u001b[0;32m    695\u001b[0m \u001b[1;33m\u001b[0m\u001b[0m\n\u001b[0;32m    696\u001b[0m             \u001b[1;32mexcept\u001b[0m \u001b[0mAttributeError\u001b[0m\u001b[1;33m:\u001b[0m\u001b[1;33m\u001b[0m\u001b[0m\n",
        "\u001b[1;32m/home/iyounus/anaconda/lib/python2.7/site-packages/requests/models.pyc\u001b[0m in \u001b[0;36mgenerate\u001b[1;34m()\u001b[0m\n\u001b[0;32m    625\u001b[0m                 \u001b[1;31m# Special case for urllib3.\u001b[0m\u001b[1;33m\u001b[0m\u001b[1;33m\u001b[0m\u001b[0m\n\u001b[0;32m    626\u001b[0m                 \u001b[1;32mtry\u001b[0m\u001b[1;33m:\u001b[0m\u001b[1;33m\u001b[0m\u001b[0m\n\u001b[1;32m--> 627\u001b[1;33m                     \u001b[1;32mfor\u001b[0m \u001b[0mchunk\u001b[0m \u001b[1;32min\u001b[0m \u001b[0mself\u001b[0m\u001b[1;33m.\u001b[0m\u001b[0mraw\u001b[0m\u001b[1;33m.\u001b[0m\u001b[0mstream\u001b[0m\u001b[1;33m(\u001b[0m\u001b[0mchunk_size\u001b[0m\u001b[1;33m,\u001b[0m \u001b[0mdecode_content\u001b[0m\u001b[1;33m=\u001b[0m\u001b[0mTrue\u001b[0m\u001b[1;33m)\u001b[0m\u001b[1;33m:\u001b[0m\u001b[1;33m\u001b[0m\u001b[0m\n\u001b[0m\u001b[0;32m    628\u001b[0m                         \u001b[1;32myield\u001b[0m \u001b[0mchunk\u001b[0m\u001b[1;33m\u001b[0m\u001b[0m\n\u001b[0;32m    629\u001b[0m                 \u001b[1;32mexcept\u001b[0m \u001b[0mIncompleteRead\u001b[0m \u001b[1;32mas\u001b[0m \u001b[0me\u001b[0m\u001b[1;33m:\u001b[0m\u001b[1;33m\u001b[0m\u001b[0m\n",
        "\u001b[1;32m/home/iyounus/anaconda/lib/python2.7/site-packages/requests/packages/urllib3/response.pyc\u001b[0m in \u001b[0;36mstream\u001b[1;34m(self, amt, decode_content)\u001b[0m\n\u001b[0;32m    238\u001b[0m         \"\"\"\n\u001b[0;32m    239\u001b[0m         \u001b[1;32mwhile\u001b[0m \u001b[1;32mnot\u001b[0m \u001b[0mis_fp_closed\u001b[0m\u001b[1;33m(\u001b[0m\u001b[0mself\u001b[0m\u001b[1;33m.\u001b[0m\u001b[0m_fp\u001b[0m\u001b[1;33m)\u001b[0m\u001b[1;33m:\u001b[0m\u001b[1;33m\u001b[0m\u001b[0m\n\u001b[1;32m--> 240\u001b[1;33m             \u001b[0mdata\u001b[0m \u001b[1;33m=\u001b[0m \u001b[0mself\u001b[0m\u001b[1;33m.\u001b[0m\u001b[0mread\u001b[0m\u001b[1;33m(\u001b[0m\u001b[0mamt\u001b[0m\u001b[1;33m=\u001b[0m\u001b[0mamt\u001b[0m\u001b[1;33m,\u001b[0m \u001b[0mdecode_content\u001b[0m\u001b[1;33m=\u001b[0m\u001b[0mdecode_content\u001b[0m\u001b[1;33m)\u001b[0m\u001b[1;33m\u001b[0m\u001b[0m\n\u001b[0m\u001b[0;32m    241\u001b[0m \u001b[1;33m\u001b[0m\u001b[0m\n\u001b[0;32m    242\u001b[0m             \u001b[1;32mif\u001b[0m \u001b[0mdata\u001b[0m\u001b[1;33m:\u001b[0m\u001b[1;33m\u001b[0m\u001b[0m\n",
        "\u001b[1;32m/home/iyounus/anaconda/lib/python2.7/site-packages/requests/packages/urllib3/response.pyc\u001b[0m in \u001b[0;36mread\u001b[1;34m(self, amt, decode_content, cache_content)\u001b[0m\n\u001b[0;32m    185\u001b[0m             \u001b[1;32melse\u001b[0m\u001b[1;33m:\u001b[0m\u001b[1;33m\u001b[0m\u001b[0m\n\u001b[0;32m    186\u001b[0m                 \u001b[0mcache_content\u001b[0m \u001b[1;33m=\u001b[0m \u001b[0mFalse\u001b[0m\u001b[1;33m\u001b[0m\u001b[0m\n\u001b[1;32m--> 187\u001b[1;33m                 \u001b[0mdata\u001b[0m \u001b[1;33m=\u001b[0m \u001b[0mself\u001b[0m\u001b[1;33m.\u001b[0m\u001b[0m_fp\u001b[0m\u001b[1;33m.\u001b[0m\u001b[0mread\u001b[0m\u001b[1;33m(\u001b[0m\u001b[0mamt\u001b[0m\u001b[1;33m)\u001b[0m\u001b[1;33m\u001b[0m\u001b[0m\n\u001b[0m\u001b[0;32m    188\u001b[0m                 \u001b[1;32mif\u001b[0m \u001b[0mamt\u001b[0m \u001b[1;33m!=\u001b[0m \u001b[1;36m0\u001b[0m \u001b[1;32mand\u001b[0m \u001b[1;32mnot\u001b[0m \u001b[0mdata\u001b[0m\u001b[1;33m:\u001b[0m  \u001b[1;31m# Platform-specific: Buggy versions of Python.\u001b[0m\u001b[1;33m\u001b[0m\u001b[0m\n\u001b[0;32m    189\u001b[0m                     \u001b[1;31m# Close the connection when no data is returned\u001b[0m\u001b[1;33m\u001b[0m\u001b[1;33m\u001b[0m\u001b[0m\n",
        "\u001b[1;32m/home/iyounus/anaconda/lib/python2.7/httplib.pyc\u001b[0m in \u001b[0;36mread\u001b[1;34m(self, amt)\u001b[0m\n\u001b[0;32m    565\u001b[0m         \u001b[1;31m# connection, and the user is reading more bytes than will be provided\u001b[0m\u001b[1;33m\u001b[0m\u001b[1;33m\u001b[0m\u001b[0m\n\u001b[0;32m    566\u001b[0m         \u001b[1;31m# (for example, reading in 1k chunks)\u001b[0m\u001b[1;33m\u001b[0m\u001b[1;33m\u001b[0m\u001b[0m\n\u001b[1;32m--> 567\u001b[1;33m         \u001b[0ms\u001b[0m \u001b[1;33m=\u001b[0m \u001b[0mself\u001b[0m\u001b[1;33m.\u001b[0m\u001b[0mfp\u001b[0m\u001b[1;33m.\u001b[0m\u001b[0mread\u001b[0m\u001b[1;33m(\u001b[0m\u001b[0mamt\u001b[0m\u001b[1;33m)\u001b[0m\u001b[1;33m\u001b[0m\u001b[0m\n\u001b[0m\u001b[0;32m    568\u001b[0m         \u001b[1;32mif\u001b[0m \u001b[1;32mnot\u001b[0m \u001b[0ms\u001b[0m \u001b[1;32mand\u001b[0m \u001b[0mamt\u001b[0m\u001b[1;33m:\u001b[0m\u001b[1;33m\u001b[0m\u001b[0m\n\u001b[0;32m    569\u001b[0m             \u001b[1;31m# Ideally, we would raise IncompleteRead if the content-length\u001b[0m\u001b[1;33m\u001b[0m\u001b[1;33m\u001b[0m\u001b[0m\n",
        "\u001b[1;32m/home/iyounus/anaconda/lib/python2.7/socket.pyc\u001b[0m in \u001b[0;36mread\u001b[1;34m(self, size)\u001b[0m\n\u001b[0;32m    378\u001b[0m                 \u001b[1;31m# fragmentation issues on many platforms.\u001b[0m\u001b[1;33m\u001b[0m\u001b[1;33m\u001b[0m\u001b[0m\n\u001b[0;32m    379\u001b[0m                 \u001b[1;32mtry\u001b[0m\u001b[1;33m:\u001b[0m\u001b[1;33m\u001b[0m\u001b[0m\n\u001b[1;32m--> 380\u001b[1;33m                     \u001b[0mdata\u001b[0m \u001b[1;33m=\u001b[0m \u001b[0mself\u001b[0m\u001b[1;33m.\u001b[0m\u001b[0m_sock\u001b[0m\u001b[1;33m.\u001b[0m\u001b[0mrecv\u001b[0m\u001b[1;33m(\u001b[0m\u001b[0mleft\u001b[0m\u001b[1;33m)\u001b[0m\u001b[1;33m\u001b[0m\u001b[0m\n\u001b[0m\u001b[0;32m    381\u001b[0m                 \u001b[1;32mexcept\u001b[0m \u001b[0merror\u001b[0m\u001b[1;33m,\u001b[0m \u001b[0me\u001b[0m\u001b[1;33m:\u001b[0m\u001b[1;33m\u001b[0m\u001b[0m\n\u001b[0;32m    382\u001b[0m                     \u001b[1;32mif\u001b[0m \u001b[0me\u001b[0m\u001b[1;33m.\u001b[0m\u001b[0margs\u001b[0m\u001b[1;33m[\u001b[0m\u001b[1;36m0\u001b[0m\u001b[1;33m]\u001b[0m \u001b[1;33m==\u001b[0m \u001b[0mEINTR\u001b[0m\u001b[1;33m:\u001b[0m\u001b[1;33m\u001b[0m\u001b[0m\n",
        "\u001b[1;31mKeyboardInterrupt\u001b[0m: "
       ]
      }
     ],
     "prompt_number": 5
    },
    {
     "cell_type": "code",
     "collapsed": false,
     "input": [
      "indata = collection.find().sort('pub_date').limit(1)\n",
      "for entry in indata:\n",
      "    print entry['pub_date']"
     ],
     "language": "python",
     "metadata": {},
     "outputs": [
      {
       "output_type": "stream",
       "stream": "stdout",
       "text": [
        "2014-10-20T19:02:16Z\n"
       ]
      }
     ],
     "prompt_number": 25
    },
    {
     "cell_type": "code",
     "collapsed": false,
     "input": [
      "print parser.parse(collection.find().sort('pub_date').limit(1).next()['pub_date']).strftime(\"%Y%m%d\")"
     ],
     "language": "python",
     "metadata": {},
     "outputs": [
      {
       "output_type": "stream",
       "stream": "stdout",
       "text": [
        "20141020\n"
       ]
      }
     ],
     "prompt_number": 29
    },
    {
     "cell_type": "code",
     "collapsed": false,
     "input": [
      "client = MongoClient()\n",
      "db = client.nyt_dummy\n",
      "\n",
      "# get mongoDB collection\n",
      "collection = db.articles\n",
      "print collection"
     ],
     "language": "python",
     "metadata": {},
     "outputs": [
      {
       "output_type": "stream",
       "stream": "stdout",
       "text": [
        "Collection(Database(MongoClient('localhost', 27017), u'nyt_dummy'), u'articles')\n"
       ]
      }
     ],
     "prompt_number": 30
    },
    {
     "cell_type": "code",
     "collapsed": false,
     "input": [
      "if not collection.find_one():\n",
      "    print \"empty...\""
     ],
     "language": "python",
     "metadata": {},
     "outputs": [
      {
       "output_type": "stream",
       "stream": "stdout",
       "text": [
        "empty...\n"
       ]
      }
     ],
     "prompt_number": 38
    },
    {
     "cell_type": "code",
     "collapsed": false,
     "input": [
      "articles_left = 200\n",
      "if  articles_left%100==0:\n",
      "    print \"Articles left: \", articles_left"
     ],
     "language": "python",
     "metadata": {},
     "outputs": [
      {
       "output_type": "stream",
       "stream": "stdout",
       "text": [
        "Articles left:  200\n"
       ]
      }
     ],
     "prompt_number": 5
    },
    {
     "cell_type": "code",
     "collapsed": false,
     "input": [],
     "language": "python",
     "metadata": {},
     "outputs": []
    }
   ],
   "metadata": {}
  }
 ]
}